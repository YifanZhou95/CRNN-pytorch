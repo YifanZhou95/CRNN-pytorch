{
 "cells": [
  {
   "cell_type": "code",
   "execution_count": 1,
   "metadata": {},
   "outputs": [],
   "source": [
    "import numpy as np\n",
    "import matplotlib.pyplot as plt\n",
    "import scipy.io as sio"
   ]
  },
  {
   "cell_type": "code",
   "execution_count": 71,
   "metadata": {},
   "outputs": [],
   "source": [
    "mat_contents=sio.loadmat('IIIT5K-Word_V3.0/IIIT5K/trainCharBound.mat')\n",
    "ImgName=mat_contents['trainCharBound']['ImgName']\n",
    "chars=mat_contents['trainCharBound']['chars']\n",
    "fo=open('IIIT5K-Word_V3.0/IIIT5K/train_Data.txt','w')\n",
    "for (i,t) in enumerate(ImgName[0]):\n",
    "    fo.write(t[0]+','+chars[0][i][0]+'\\n')\n",
    "fo.close()"
   ]
  },
  {
   "cell_type": "code",
   "execution_count": 73,
   "metadata": {},
   "outputs": [],
   "source": [
    "mat_contents=sio.loadmat('IIIT5K-Word_V3.0/IIIT5K/testCharBound.mat')\n",
    "ImgName=mat_contents['testCharBound']['ImgName']\n",
    "chars=mat_contents['testCharBound']['chars']\n",
    "fo=open('IIIT5K-Word_V3.0/IIIT5K/test_Data.txt','w')\n",
    "for (i,t) in enumerate(ImgName[0]):\n",
    "    fo.write(t[0]+','+chars[0][i][0]+'\\n')\n",
    "fo.close()"
   ]
  },
  {
   "cell_type": "code",
   "execution_count": null,
   "metadata": {},
   "outputs": [],
   "source": []
  }
 ],
 "metadata": {
  "kernelspec": {
   "display_name": "Python 3",
   "language": "python",
   "name": "python3"
  },
  "language_info": {
   "codemirror_mode": {
    "name": "ipython",
    "version": 3
   },
   "file_extension": ".py",
   "mimetype": "text/x-python",
   "name": "python",
   "nbconvert_exporter": "python",
   "pygments_lexer": "ipython3",
   "version": "3.5.4"
  }
 },
 "nbformat": 4,
 "nbformat_minor": 2
}
